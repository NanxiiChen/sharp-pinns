{
 "cells": [
  {
   "cell_type": "code",
   "execution_count": 2,
   "metadata": {},
   "outputs": [],
   "source": [
    "import sympy as sy\n",
    "sy.init_printing(use_latex=\"mathjax\")"
   ]
  },
  {
   "cell_type": "code",
   "execution_count": 14,
   "metadata": {},
   "outputs": [],
   "source": [
    "x, y, t = sy.symbols(\"x y t\")\n",
    "D_L, D_S = sy.symbols(\"D_L D_S\")\n",
    "c = sy.Function(\"c\")(x, y, t)\n",
    "phi = sy.Function(\"phi\")(x, y, t)\n",
    "\n",
    "def grad(f):\n",
    "    return sy.Matrix([f.diff(x), f.diff(y)]).T"
   ]
  },
  {
   "cell_type": "code",
   "execution_count": 15,
   "metadata": {},
   "outputs": [],
   "source": [
    "pphi = phi**3 * (10 - 15*phi + 6*phi**2)\n",
    "D_c = D_S + (D_L - D_S) * pphi"
   ]
  },
  {
   "cell_type": "code",
   "execution_count": 16,
   "metadata": {},
   "outputs": [
    {
     "data": {
      "text/latex": [
       "$\\displaystyle \\left[\\begin{matrix}\\left(D_{L} - D_{S}\\right) \\left(12 \\phi{\\left(x,y,t \\right)} \\frac{\\partial}{\\partial x} \\phi{\\left(x,y,t \\right)} - 15 \\frac{\\partial}{\\partial x} \\phi{\\left(x,y,t \\right)}\\right) \\phi^{3}{\\left(x,y,t \\right)} + 3 \\left(D_{L} - D_{S}\\right) \\left(6 \\phi^{2}{\\left(x,y,t \\right)} - 15 \\phi{\\left(x,y,t \\right)} + 10\\right) \\phi^{2}{\\left(x,y,t \\right)} \\frac{\\partial}{\\partial x} \\phi{\\left(x,y,t \\right)} & \\left(D_{L} - D_{S}\\right) \\left(12 \\phi{\\left(x,y,t \\right)} \\frac{\\partial}{\\partial y} \\phi{\\left(x,y,t \\right)} - 15 \\frac{\\partial}{\\partial y} \\phi{\\left(x,y,t \\right)}\\right) \\phi^{3}{\\left(x,y,t \\right)} + 3 \\left(D_{L} - D_{S}\\right) \\left(6 \\phi^{2}{\\left(x,y,t \\right)} - 15 \\phi{\\left(x,y,t \\right)} + 10\\right) \\phi^{2}{\\left(x,y,t \\right)} \\frac{\\partial}{\\partial y} \\phi{\\left(x,y,t \\right)}\\end{matrix}\\right]$"
      ],
      "text/plain": [
       "⎡            ⎛              ∂                   ∂             ⎞  3            \n",
       "⎢(D_L - D_S)⋅⎜12⋅φ(x, y, t)⋅──(φ(x, y, t)) - 15⋅──(φ(x, y, t))⎟⋅φ (x, y, t) + \n",
       "⎣            ⎝              ∂x                  ∂x            ⎠               \n",
       "\n",
       "              ⎛   2                              ⎞  2          ∂              \n",
       "3⋅(D_L - D_S)⋅⎝6⋅φ (x, y, t) - 15⋅φ(x, y, t) + 10⎠⋅φ (x, y, t)⋅──(φ(x, y, t)) \n",
       "                                                               ∂x             \n",
       "\n",
       "             ⎛              ∂                   ∂             ⎞  3            \n",
       " (D_L - D_S)⋅⎜12⋅φ(x, y, t)⋅──(φ(x, y, t)) - 15⋅──(φ(x, y, t))⎟⋅φ (x, y, t) + \n",
       "             ⎝              ∂y                  ∂y            ⎠               \n",
       "\n",
       "              ⎛   2                              ⎞  2          ∂             ⎤\n",
       "3⋅(D_L - D_S)⋅⎝6⋅φ (x, y, t) - 15⋅φ(x, y, t) + 10⎠⋅φ (x, y, t)⋅──(φ(x, y, t))⎥\n",
       "                                                               ∂y            ⎦"
      ]
     },
     "execution_count": 16,
     "metadata": {},
     "output_type": "execute_result"
    }
   ],
   "source": [
    "grad(D_c)"
   ]
  },
  {
   "cell_type": "code",
   "execution_count": 2,
   "metadata": {},
   "outputs": [
    {
     "data": {
      "text/plain": [
       "-0.0001"
      ]
     },
     "execution_count": 2,
     "metadata": {},
     "output_type": "execute_result"
    }
   ],
   "source": [
    "import numpy as np\n",
    "np.load(\"data/2d\\mesh_points.npy\").min()"
   ]
  },
  {
   "cell_type": "code",
   "execution_count": null,
   "metadata": {},
   "outputs": [],
   "source": []
  }
 ],
 "metadata": {
  "kernelspec": {
   "display_name": "dl-env",
   "language": "python",
   "name": "python3"
  },
  "language_info": {
   "codemirror_mode": {
    "name": "ipython",
    "version": 3
   },
   "file_extension": ".py",
   "mimetype": "text/x-python",
   "name": "python",
   "nbconvert_exporter": "python",
   "pygments_lexer": "ipython3",
   "version": "3.10.11"
  }
 },
 "nbformat": 4,
 "nbformat_minor": 2
}
